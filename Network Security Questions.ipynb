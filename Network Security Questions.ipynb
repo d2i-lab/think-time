{
 "cells": [
  {
   "cell_type": "markdown",
   "metadata": {
    "id": "K4sBj7h_QeZI"
   },
   "source": [
    "# Data Preprocessing\n"
   ]
  },
  {
   "cell_type": "markdown",
   "metadata": {
    "id": "cj5E2p_sQjiG"
   },
   "source": [
    "Importing libraries"
   ]
  },
  {
   "cell_type": "code",
   "execution_count": 2,
   "metadata": {
    "id": "9kdg774kQYFi"
   },
   "outputs": [],
   "source": [
    "import pandas as pd \n",
    "import numpy as np\n",
    "import matplotlib.pyplot as plt\n",
    "import gc\n",
    "\n",
    "\n"
   ]
  },
  {
   "cell_type": "markdown",
   "metadata": {
    "id": "WfKMQhQFRmC5"
   },
   "source": [
    "Observe how the data is divided into 5 columns with the following headings:\n",
    "\n",
    "\n",
    "\n",
    "\n",
    "ts (timestamp of data exchange)\n",
    "\n",
    "\n",
    "\n",
    "src: (source Interet Protocol Address)\n",
    "\n",
    "\n",
    "\n",
    "dst: (destination Internet Protocal Address)\n",
    "\n",
    "\n",
    "\n",
    "port: (number assigned to uniquely identify a connection endpoint)\n"
   ]
  },
  {
   "cell_type": "code",
   "execution_count": 3,
   "metadata": {
    "colab": {
     "base_uri": "https://localhost:8080/"
    },
    "id": "Mrz0EjpuQa2j",
    "outputId": "0d1bec65-60b8-46d3-ed79-d2d33e2c048a"
   },
   "outputs": [
    {
     "name": "stdout",
     "output_type": "stream",
     "text": [
      "<class 'pandas.core.frame.DataFrame'>\n",
      "Int64Index: 100000 entries, 0 to 99999\n",
      "Data columns (total 5 columns):\n",
      " #   Column  Non-Null Count   Dtype \n",
      "---  ------  --------------   ----- \n",
      " 0   ts      100000 non-null  int64 \n",
      " 1   src     100000 non-null  object\n",
      " 2   dst     100000 non-null  object\n",
      " 3   port    100000 non-null  int64 \n",
      " 4   bytes   100000 non-null  int64 \n",
      "dtypes: int64(3), object(2)\n",
      "memory usage: 4.6+ MB\n"
     ]
    }
   ],
   "source": [
    "df = pd.read_csv('Network Security Data.csv')\n",
    "df = pd.read_csv(\n",
    "    'Network Security Data.csv',\n",
    "    header = 0, \n",
    "    names= ['ts', 'src', 'dst', 'port', 'bytes']\n",
    "    )\n",
    "\n",
    "df.info()"
   ]
  },
  {
   "cell_type": "markdown",
   "metadata": {
    "id": "CNbLAYfHS3d-"
   },
   "source": [
    "Formatting the data to create extra features for internal data and external data.\n"
   ]
  },
  {
   "cell_type": "code",
   "execution_count": 4,
   "metadata": {
    "colab": {
     "base_uri": "https://localhost:8080/",
     "height": 206
    },
    "id": "VUp57_FkSoam",
    "outputId": "e651ad11-0bcf-4cde-bc4a-dfb4b6ac6167"
   },
   "outputs": [
    {
     "data": {
      "text/html": [
       "<div>\n",
       "<style scoped>\n",
       "    .dataframe tbody tr th:only-of-type {\n",
       "        vertical-align: middle;\n",
       "    }\n",
       "\n",
       "    .dataframe tbody tr th {\n",
       "        vertical-align: top;\n",
       "    }\n",
       "\n",
       "    .dataframe thead th {\n",
       "        text-align: right;\n",
       "    }\n",
       "</style>\n",
       "<table border=\"1\" class=\"dataframe\">\n",
       "  <thead>\n",
       "    <tr style=\"text-align: right;\">\n",
       "      <th></th>\n",
       "      <th>ts</th>\n",
       "      <th>src</th>\n",
       "      <th>dst</th>\n",
       "      <th>port</th>\n",
       "      <th>bytes</th>\n",
       "      <th>src_int</th>\n",
       "      <th>dst_int</th>\n",
       "      <th>hour</th>\n",
       "      <th>minute</th>\n",
       "    </tr>\n",
       "  </thead>\n",
       "  <tbody>\n",
       "    <tr>\n",
       "      <th>0</th>\n",
       "      <td>2020-01-06 16:00:00.005</td>\n",
       "      <td>16.79.101.100</td>\n",
       "      <td>12.48.65.39</td>\n",
       "      <td>92</td>\n",
       "      <td>11895</td>\n",
       "      <td>False</td>\n",
       "      <td>True</td>\n",
       "      <td>16</td>\n",
       "      <td>0</td>\n",
       "    </tr>\n",
       "    <tr>\n",
       "      <th>1</th>\n",
       "      <td>2020-01-06 16:00:00.007</td>\n",
       "      <td>18.43.118.103</td>\n",
       "      <td>14.51.30.86</td>\n",
       "      <td>27</td>\n",
       "      <td>898</td>\n",
       "      <td>False</td>\n",
       "      <td>True</td>\n",
       "      <td>16</td>\n",
       "      <td>0</td>\n",
       "    </tr>\n",
       "    <tr>\n",
       "      <th>2</th>\n",
       "      <td>2020-01-06 16:00:00.011</td>\n",
       "      <td>15.71.108.118</td>\n",
       "      <td>14.50.119.33</td>\n",
       "      <td>57</td>\n",
       "      <td>7496</td>\n",
       "      <td>False</td>\n",
       "      <td>True</td>\n",
       "      <td>16</td>\n",
       "      <td>0</td>\n",
       "    </tr>\n",
       "    <tr>\n",
       "      <th>3</th>\n",
       "      <td>2020-01-06 16:00:00.012</td>\n",
       "      <td>14.33.30.103</td>\n",
       "      <td>15.24.31.23</td>\n",
       "      <td>115</td>\n",
       "      <td>20979</td>\n",
       "      <td>True</td>\n",
       "      <td>False</td>\n",
       "      <td>16</td>\n",
       "      <td>0</td>\n",
       "    </tr>\n",
       "    <tr>\n",
       "      <th>4</th>\n",
       "      <td>2020-01-06 16:00:00.012</td>\n",
       "      <td>18.121.115.31</td>\n",
       "      <td>13.56.39.74</td>\n",
       "      <td>92</td>\n",
       "      <td>8620</td>\n",
       "      <td>False</td>\n",
       "      <td>True</td>\n",
       "      <td>16</td>\n",
       "      <td>0</td>\n",
       "    </tr>\n",
       "  </tbody>\n",
       "</table>\n",
       "</div>"
      ],
      "text/plain": [
       "                       ts            src           dst  port  bytes  src_int  \\\n",
       "0 2020-01-06 16:00:00.005  16.79.101.100   12.48.65.39    92  11895    False   \n",
       "1 2020-01-06 16:00:00.007  18.43.118.103   14.51.30.86    27    898    False   \n",
       "2 2020-01-06 16:00:00.011  15.71.108.118  14.50.119.33    57   7496    False   \n",
       "3 2020-01-06 16:00:00.012   14.33.30.103   15.24.31.23   115  20979     True   \n",
       "4 2020-01-06 16:00:00.012  18.121.115.31   13.56.39.74    92   8620    False   \n",
       "\n",
       "   dst_int  hour  minute  \n",
       "0     True    16       0  \n",
       "1     True    16       0  \n",
       "2     True    16       0  \n",
       "3    False    16       0  \n",
       "4     True    16       0  "
      ]
     },
     "execution_count": 4,
     "metadata": {},
     "output_type": "execute_result"
    }
   ],
   "source": [
    "def is_internal(s):\n",
    "    return s.str.startswith(('12.', '13.', '14.')) \n",
    "\n",
    "df['src_int'] = is_internal(df['src'])\n",
    "df['dst_int'] = is_internal(df['dst'])\n",
    "\n",
    "df['ts']      = pd.to_datetime(df.ts, unit='ms')\n",
    "df['hour']    = df.ts.dt.hour.astype('uint8')\n",
    "df['minute']  = df.ts.dt.minute.astype('uint8')\n",
    "df['port']    = df['port'].astype('uint8')\n",
    "df.head()\n"
   ]
  },
  {
   "cell_type": "markdown",
   "metadata": {
    "id": "R91kLcYeTOTX"
   },
   "source": [
    "The code creates two new columns, src_int and dst_int with True and False values indicating whether the source and destination IPs are internal or not (external), respectively. Check the tutorials below to see how these features are used!\n",
    "\n",
    "\n"
   ]
  },
  {
   "cell_type": "markdown",
   "metadata": {
    "id": "LkNKGWQ3TSlh"
   },
   "source": [
    "# Tutorials"
   ]
  },
  {
   "cell_type": "markdown",
   "metadata": {
    "id": "pmRbblMoTg6V"
   },
   "source": [
    "1. Which internal IP is responsible for sending out the most outbound data to external IPs?"
   ]
  },
  {
   "cell_type": "code",
   "execution_count": null,
   "metadata": {},
   "outputs": [],
   "source": [
    "src_bytes_out = df[df['src_int'] & ~df['dst_int']]\\\n",
    "  .groupby('src')\\\n",
    "  .bytes.sum()\\\n",
    "  .pipe(lambda x: x[x > 0])\\\n",
    "  .sort_values(ascending=False)"
   ]
  },
  {
   "cell_type": "code",
   "execution_count": 8,
   "metadata": {},
   "outputs": [
    {
     "data": {
      "text/html": [
       "<div>\n",
       "<style scoped>\n",
       "    .dataframe tbody tr th:only-of-type {\n",
       "        vertical-align: middle;\n",
       "    }\n",
       "\n",
       "    .dataframe tbody tr th {\n",
       "        vertical-align: top;\n",
       "    }\n",
       "\n",
       "    .dataframe thead th {\n",
       "        text-align: right;\n",
       "    }\n",
       "</style>\n",
       "<table border=\"1\" class=\"dataframe\">\n",
       "  <thead>\n",
       "    <tr style=\"text-align: right;\">\n",
       "      <th></th>\n",
       "      <th>bytes</th>\n",
       "    </tr>\n",
       "    <tr>\n",
       "      <th>src</th>\n",
       "      <th></th>\n",
       "    </tr>\n",
       "  </thead>\n",
       "  <tbody>\n",
       "    <tr>\n",
       "      <th>13.37.84.125</th>\n",
       "      <td>10123609</td>\n",
       "    </tr>\n",
       "  </tbody>\n",
       "</table>\n",
       "</div>"
      ],
      "text/plain": [
       "                 bytes\n",
       "src                   \n",
       "13.37.84.125  10123609"
      ]
     },
     "execution_count": 8,
     "metadata": {},
     "output_type": "execute_result"
    }
   ],
   "source": [
    "src_bytes_out.to_frame().head(1)"
   ]
  },
  {
   "cell_type": "markdown",
   "metadata": {
    "id": "dUuQ79eATuEh"
   },
   "source": [
    "2. Which internal IP has the highest number of connections to unique combinations of ports and internal IPs?"
   ]
  },
  {
   "cell_type": "code",
   "execution_count": null,
   "metadata": {
    "colab": {
     "base_uri": "https://localhost:8080/"
    },
    "id": "z2EifzdnVEXa",
    "outputId": "9547156b-8f3a-47c3-f981-1435f7cb96d4"
   },
   "outputs": [],
   "source": [
    "dst_counts = df[df['src_int'] & df['dst_int']]\\\n",
    "    .drop_duplicates(['port', 'dst'])\\\n",
    "    .groupby('src').size()\\\n",
    "    .sort_values(ascending=False)"
   ]
  },
  {
   "cell_type": "markdown",
   "metadata": {
    "id": "NhiGPmL8Xanl"
   },
   "source": [
    "# Tasks"
   ]
  },
  {
   "cell_type": "markdown",
   "metadata": {
    "id": "RPJpPY59XeJd"
   },
   "source": [
    "1. Which internal IP is responsible for sending the most outbound data during office hours (08:00 to 22:00)?\n",
    "\n",
    "\n",
    "**Hint**: This task is similar to the task in the first example.Check whether you can filter the data from the first example to get the answer."
   ]
  },
  {
   "cell_type": "code",
   "execution_count": null,
   "metadata": {
    "colab": {
     "base_uri": "https://localhost:8080/"
    },
    "id": "gQpfqlMuXwIv",
    "outputId": "56f0aa67-cfe4-4b8d-8485-b66553e08836"
   },
   "outputs": [],
   "source": []
  },
  {
   "cell_type": "markdown",
   "metadata": {
    "id": "686KFYqUakf9"
   },
   "source": [
    "Answer: 13.37.84.125\n",
    "\n",
    "What is the IP address of the second largest source of outbound traffic? "
   ]
  },
  {
   "cell_type": "markdown",
   "metadata": {
    "id": "I1eaqWOiahpV"
   },
   "source": [
    "2. Which public facing port is used by the highest number of unique source IPs?\n",
    "\n",
    "!Hint: Public facing ports ONLY have external source IPs.\n",
    "\n",
    "\n",
    "!Hint: Check tutorial 2. Is there a function you can use to find unique combinations of IPs and ports?"
   ]
  },
  {
   "cell_type": "code",
   "execution_count": null,
   "metadata": {
    "colab": {
     "base_uri": "https://localhost:8080/"
    },
    "id": "tkdCeEDxcK_r",
    "outputId": "efba90fe-5918-49e5-9a5a-c4a9215bdd53"
   },
   "outputs": [],
   "source": []
  },
  {
   "cell_type": "markdown",
   "metadata": {
    "id": "D4s35TsQc9FB"
   },
   "source": [
    "Answer: 118\n",
    "\n",
    "How many IPs is it used by?"
   ]
  },
  {
   "cell_type": "markdown",
   "metadata": {
    "id": "tALl1xcodsPR"
   },
   "source": [
    "3. Some external IPs only send data to one IP within the company. How many of these unique external source-internal destination duos are there?"
   ]
  },
  {
   "cell_type": "code",
   "execution_count": null,
   "metadata": {
    "colab": {
     "base_uri": "https://localhost:8080/"
    },
    "id": "NvwQV38Qd1YW",
    "outputId": "e3ad4a1c-8d81-41ac-ab3a-294848927d06"
   },
   "outputs": [],
   "source": []
  },
  {
   "cell_type": "markdown",
   "metadata": {
    "id": "qb_TZtlGCgmV"
   },
   "source": [
    "Answer: 254"
   ]
  },
  {
   "cell_type": "markdown",
   "metadata": {
    "id": "fgh6ZEFXfmXY"
   },
   "source": [
    "4. Some ports are used by external IPs to send consistent sizes of data to internal hosts. How many such ports are there?\n",
    "\n",
    "!Hint: Think about this in terms of the variation of the bytes of data."
   ]
  },
  {
   "cell_type": "code",
   "execution_count": null,
   "metadata": {
    "colab": {
     "base_uri": "https://localhost:8080/"
    },
    "id": "zvut63X2flLF",
    "outputId": "9d4dd49e-fa79-4f72-adc0-feacec3db370"
   },
   "outputs": [],
   "source": []
  },
  {
   "cell_type": "markdown",
   "metadata": {
    "id": "2VyAD5W0OX4C"
   },
   "source": [
    "Answer: 8"
   ]
  },
  {
   "cell_type": "markdown",
   "metadata": {},
   "source": [
    "Please run the following code:"
   ]
  },
  {
   "cell_type": "code",
   "execution_count": null,
   "metadata": {},
   "outputs": [],
   "source": [
    "import codecs\n",
    "\n",
    "jupyter_file = codecs.open(\"Network Security Questions.ipynb\", 'r')\n",
    "source_data = jupyter_file.read()\n",
    "\n",
    "f = open(\"submit.json\", \"w\")\n",
    "f.write(source_data)\n",
    "f.close()"
   ]
  },
  {
   "cell_type": "code",
   "execution_count": null,
   "metadata": {},
   "outputs": [],
   "source": [
    "f = open(\"in_file.txt\", \"w\")\n",
    "for i in In:\n",
    "    f.write(i)\n",
    "    f.write("\n")\n",
    "f.close()"
   ]
  }
 ],
 "metadata": {
  "colab": {
   "provenance": [],
   "toc_visible": true
  },
  "kernelspec": {
   "display_name": "Python 3 (ipykernel)",
   "language": "python",
   "name": "python3"
  },
  "language_info": {
   "codemirror_mode": {
    "name": "ipython",
    "version": 3
   },
   "file_extension": ".py",
   "mimetype": "text/x-python",
   "name": "python",
   "nbconvert_exporter": "python",
   "pygments_lexer": "ipython3",
   "version": "3.9.12"
  }
 },
 "nbformat": 4,
 "nbformat_minor": 1
}
